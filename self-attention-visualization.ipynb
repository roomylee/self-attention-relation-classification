{
 "cells": [
  {
   "cell_type": "code",
   "execution_count": 1,
   "metadata": {},
   "outputs": [
    {
     "data": {
      "text/plain": [
       "<IPython.core.display.Javascript object>"
      ]
     },
     "metadata": {},
     "output_type": "display_data"
    }
   ],
   "source": [
    "%%javascript\n",
    "require.config({\n",
    "  paths: {\n",
    "      d3: '//cdnjs.cloudflare.com/ajax/libs/d3/3.4.8/d3.min'\n",
    "  }\n",
    "});"
   ]
  },
  {
   "cell_type": "code",
   "execution_count": 10,
   "metadata": {
    "scrolled": false
   },
   "outputs": [
    {
     "name": "stdout",
     "output_type": "stream",
     "text": [
      "SemEval2010_task8_all_data/SemEval2010_task8_testing_keys/TEST_FILE_FULL.TXT\n",
      "max sentence length = 68\n",
      "\n",
      "C:\\Users\\서상우\\Desktop\\self-attentive-relation-extraction\\runs\\1538483063\\checkpoints\\model-84.2-4300\n",
      "\n",
      "Text Vocabulary Size: 22384\n",
      "test_x = (2717, 90)\n",
      "test_y = (2717, 19)\n",
      "\n",
      "Position Vocabulary Size: 162\n",
      "test_p1 = (2717, 90)\n",
      "\n",
      "INFO:tensorflow:Restoring parameters from C:\\Users\\서상우\\Desktop\\self-attentive-relation-extraction\\runs\\1538483063\\checkpoints\\model-84.2-4300\n",
      "\n",
      "Evaluation:\n"
     ]
    }
   ],
   "source": [
    "import sys; sys.argv=['']; del sys\n",
    "import os\n",
    "import time\n",
    "import numpy as np\n",
    "import tensorflow as tf\n",
    "\n",
    "import data_helpers\n",
    "from configure import FLAGS\n",
    "from logger import Logger\n",
    "from model.self_att_lstm import SelfAttentiveLSTM\n",
    "import utils\n",
    "\n",
    "import warnings\n",
    "import sklearn.exceptions\n",
    "warnings.filterwarnings(\"ignore\", category=sklearn.exceptions.UndefinedMetricWarning)\n",
    "\n",
    "\n",
    "from tensor2tensor.visualization import attention\n",
    "\n",
    "FLAGS.checkpoint_dir = \"runs/1538483063/checkpoints\"\n",
    "with tf.device('/cpu:0'):\n",
    "    test_text, test_y, test_e1, test_e2, test_pos1, test_pos2 = data_helpers.load_data_and_labels(FLAGS.test_path)\n",
    "\n",
    "checkpoint_file = tf.train.latest_checkpoint(FLAGS.checkpoint_dir)\n",
    "print(checkpoint_file)\n",
    "\n",
    "vocab_path = os.path.join(FLAGS.checkpoint_dir, \"..\", \"vocab\")\n",
    "vocab_processor = tf.contrib.learn.preprocessing.VocabularyProcessor.restore(vocab_path)\n",
    "\n",
    "# Map data into position\n",
    "position_path = os.path.join(FLAGS.checkpoint_dir, \"..\", \"pos_vocab\")\n",
    "pos_vocab_processor = tf.contrib.learn.preprocessing.VocabularyProcessor.restore(position_path)\n",
    "\n",
    "test_x = np.array(list(vocab_processor.transform(test_text)))\n",
    "test_text = np.array(test_text)\n",
    "print(\"\\nText Vocabulary Size: {:d}\".format(len(vocab_processor.vocabulary_)))\n",
    "print(\"test_x = {0}\".format(test_x.shape))\n",
    "print(\"test_y = {0}\".format(test_y.shape))\n",
    "\n",
    "test_p1 = np.array(list(pos_vocab_processor.transform(test_pos1)))\n",
    "test_p2 = np.array(list(pos_vocab_processor.transform(test_pos2)))\n",
    "print(\"\\nPosition Vocabulary Size: {:d}\".format(len(pos_vocab_processor.vocabulary_)))\n",
    "print(\"test_p1 = {0}\".format(test_p1.shape))\n",
    "print(\"\")\n",
    "\n",
    "output_alphas = []\n",
    "\n",
    "graph = tf.Graph()\n",
    "with graph.as_default():\n",
    "    session_conf = tf.ConfigProto(\n",
    "        allow_soft_placement=FLAGS.allow_soft_placement,\n",
    "        log_device_placement=FLAGS.log_device_placement)\n",
    "    session_conf.gpu_options.allow_growth = FLAGS.gpu_allow_growth\n",
    "    sess = tf.Session(config=session_conf)\n",
    "    with sess.as_default():\n",
    "        # Load the saved meta graph and restore variables\n",
    "        saver = tf.train.import_meta_graph(\"{}.meta\".format(checkpoint_file))\n",
    "        saver.restore(sess, checkpoint_file)\n",
    "\n",
    "        input_x = graph.get_operation_by_name(\"input_x\").outputs[0]\n",
    "        input_y = graph.get_operation_by_name(\"input_y\").outputs[0]\n",
    "        input_text = graph.get_operation_by_name(\"input_text\").outputs[0]\n",
    "        input_e1 = graph.get_operation_by_name(\"input_e1\").outputs[0]\n",
    "        input_e2 = graph.get_operation_by_name(\"input_e2\").outputs[0]\n",
    "        input_p1 = graph.get_operation_by_name(\"input_p1\").outputs[0]\n",
    "        input_p2 = graph.get_operation_by_name(\"input_p2\").outputs[0]\n",
    "        emb_dropout_keep_prob = graph.get_operation_by_name(\"emb_dropout_keep_prob\").outputs[0]\n",
    "        rnn_dropout_keep_prob = graph.get_operation_by_name(\"rnn_dropout_keep_prob\").outputs[0]\n",
    "        dropout_keep_prob = graph.get_operation_by_name(\"dropout_keep_prob\").outputs[0]\n",
    "        self_alphas_op = graph.get_operation_by_name(\"self-attention/multihead_attention/Softmax\").outputs[0]\n",
    "        alphas_op = graph.get_tensor_by_name(\"attention/alphas:0\")\n",
    "        acc_op = graph.get_tensor_by_name(\"accuracy/accuracy:0\")\n",
    "\n",
    "        print(\"\\nEvaluation:\")\n",
    "        # Generate batches\n",
    "        test_batches = data_helpers.batch_iter(list(zip(test_x, test_y, test_text,\n",
    "                                                        test_e1, test_e2, test_p1, test_p2)),\n",
    "                                               FLAGS.batch_size, 1, shuffle=False)\n",
    "        # Training loop. For each batch...\n",
    "        accuracy = 0.0\n",
    "        iter_cnt = 0\n",
    "        for test_batch in test_batches:\n",
    "            test_bx, test_by, test_btxt, test_be1, test_be2, test_bp1, test_bp2 = zip(*test_batch)\n",
    "            feed_dict = {\n",
    "                input_x: test_bx,\n",
    "                input_y: test_by,\n",
    "                input_text: test_btxt,\n",
    "                input_e1: test_be1,\n",
    "                input_e2: test_be2,\n",
    "                input_p1: test_bp1,\n",
    "                input_p2: test_bp2,\n",
    "                emb_dropout_keep_prob: 1.0,\n",
    "                rnn_dropout_keep_prob: 1.0,\n",
    "                dropout_keep_prob: 1.0\n",
    "            }\n",
    "            self_alphas, alphas, acc = sess.run(\n",
    "                [self_alphas_op, alphas_op, acc_op], feed_dict)\n",
    "            accuracy += acc\n",
    "            self_alphas = np.reshape(self_alphas, (FLAGS.num_heads, -1, FLAGS.max_sentence_length, FLAGS.max_sentence_length))\n",
    "            self_alphas = self_alphas.transpose([1, 0, 2, 3])\n",
    "            \n",
    "            output_alphas += self_alphas.tolist()\n",
    "            \n",
    "            \n"
   ]
  },
  {
   "cell_type": "code",
   "execution_count": 37,
   "metadata": {},
   "outputs": [
    {
     "data": {
      "text/html": [
       "\n",
       "  <span style=\"user-select:none\">\n",
       "    Layer: <select id=\"layer\"></select>\n",
       "    Attention: <select id=\"att_type\">\n",
       "      <option value=\"all\">All</option>\n",
       "      <option value=\"inp_inp\">Input - Input</option>\n",
       "      <option value=\"inp_out\">Input - Output</option>\n",
       "      <option value=\"out_out\">Output - Output</option>\n",
       "    </select>\n",
       "  </span>\n",
       "  <div id='vis'></div>\n"
      ],
      "text/plain": [
       "<IPython.core.display.HTML object>"
      ]
     },
     "metadata": {},
     "output_type": "execute_result"
    },
    {
     "data": {
      "text/plain": [
       "<IPython.core.display.Javascript object>"
      ]
     },
     "metadata": {},
     "output_type": "display_data"
    },
    {
     "data": {
      "text/plain": [
       "<IPython.core.display.Javascript object>"
      ]
     },
     "metadata": {},
     "output_type": "display_data"
    }
   ],
   "source": [
    "idx = 10\n",
    "self_alphas = np.array(output_alphas[idx])\n",
    "sent = test_text[idx].split()\n",
    "sent_len = len(sent)\n",
    "s = [self_alphas[0][:sent_len, :sent_len]*20]\n",
    "s.append(self_alphas[1][:sent_len, :sent_len]*20)\n",
    "s.append(self_alphas[2][:sent_len, :sent_len]*20)\n",
    "s.append(self_alphas[3][:sent_len, :sent_len]*20)\n",
    "\n",
    "for i in range(len(s)):\n",
    "    for j in range(len(s[i])):\n",
    "        for k in range(len(s[i][j])):\n",
    "            if(s[i][j][k]<0.3):\n",
    "                s[i][j][k]= 0.\n",
    "\n",
    "\n",
    "s = [np.array(s)]\n",
    "\n",
    "attention.show(sent, sent, s, s, s)"
   ]
  },
  {
   "cell_type": "code",
   "execution_count": 31,
   "metadata": {
    "scrolled": true
   },
   "outputs": [
    {
     "data": {
      "text/plain": [
       "[0.0025560029316693544,\n",
       " 0.003645051270723343,\n",
       " 0.005299318116158247,\n",
       " 0.013214701786637306,\n",
       " 0.013513109646737576,\n",
       " 0.010207850486040115,\n",
       " 0.004558983258903027,\n",
       " 0.004419563338160515,\n",
       " 0.02165045589208603,\n",
       " 0.009195246733725071,\n",
       " 0.02158127725124359,\n",
       " 0.003047712380066514,\n",
       " 0.012452500872313976,\n",
       " 0.011359208263456821,\n",
       " 0.011359208263456821,\n",
       " 0.011359208263456821,\n",
       " 0.011359208263456821,\n",
       " 0.011359208263456821,\n",
       " 0.011359208263456821,\n",
       " 0.011359208263456821,\n",
       " 0.011359208263456821,\n",
       " 0.011359208263456821,\n",
       " 0.011359208263456821,\n",
       " 0.011359208263456821,\n",
       " 0.011359208263456821,\n",
       " 0.011359208263456821,\n",
       " 0.011359208263456821,\n",
       " 0.011359208263456821,\n",
       " 0.011359208263456821,\n",
       " 0.011359208263456821,\n",
       " 0.011359208263456821,\n",
       " 0.011359208263456821,\n",
       " 0.011359208263456821,\n",
       " 0.011359208263456821,\n",
       " 0.011359208263456821,\n",
       " 0.011359208263456821,\n",
       " 0.011359208263456821,\n",
       " 0.011359208263456821,\n",
       " 0.011359208263456821,\n",
       " 0.011359208263456821,\n",
       " 0.011359208263456821,\n",
       " 0.011359208263456821,\n",
       " 0.011359208263456821,\n",
       " 0.011359208263456821,\n",
       " 0.011359208263456821,\n",
       " 0.011359208263456821,\n",
       " 0.011359208263456821,\n",
       " 0.011359208263456821,\n",
       " 0.011359208263456821,\n",
       " 0.011359208263456821,\n",
       " 0.011359208263456821,\n",
       " 0.011359208263456821,\n",
       " 0.011359208263456821,\n",
       " 0.011359208263456821,\n",
       " 0.011359208263456821,\n",
       " 0.011359208263456821,\n",
       " 0.011359208263456821,\n",
       " 0.011359208263456821,\n",
       " 0.011359208263456821,\n",
       " 0.011359208263456821,\n",
       " 0.011359208263456821,\n",
       " 0.011359208263456821,\n",
       " 0.011359208263456821,\n",
       " 0.011359208263456821,\n",
       " 0.011359208263456821,\n",
       " 0.011359208263456821,\n",
       " 0.011359208263456821,\n",
       " 0.011359208263456821,\n",
       " 0.011359208263456821,\n",
       " 0.011359208263456821,\n",
       " 0.011359208263456821,\n",
       " 0.011359208263456821,\n",
       " 0.011359208263456821,\n",
       " 0.011359208263456821,\n",
       " 0.011359208263456821,\n",
       " 0.011359208263456821,\n",
       " 0.011359208263456821,\n",
       " 0.011359208263456821,\n",
       " 0.011359208263456821,\n",
       " 0.011359208263456821,\n",
       " 0.011359208263456821,\n",
       " 0.011359208263456821,\n",
       " 0.011359208263456821,\n",
       " 0.011359208263456821,\n",
       " 0.011359208263456821,\n",
       " 0.011359208263456821,\n",
       " 0.011359208263456821,\n",
       " 0.011359208263456821,\n",
       " 0.011359208263456821,\n",
       " 0.011359208263456821]"
      ]
     },
     "execution_count": 31,
     "metadata": {},
     "output_type": "execute_result"
    }
   ],
   "source": [
    "output_alphas[0][0][0]"
   ]
  },
  {
   "cell_type": "code",
   "execution_count": null,
   "metadata": {
    "collapsed": true
   },
   "outputs": [],
   "source": []
  }
 ],
 "metadata": {
  "kernelspec": {
   "display_name": "Python 3",
   "language": "python",
   "name": "python3"
  },
  "language_info": {
   "codemirror_mode": {
    "name": "ipython",
    "version": 3
   },
   "file_extension": ".py",
   "mimetype": "text/x-python",
   "name": "python",
   "nbconvert_exporter": "python",
   "pygments_lexer": "ipython3",
   "version": "3.6.3"
  }
 },
 "nbformat": 4,
 "nbformat_minor": 2
}
